{
  "cells": [
    {
      "cell_type": "code",
      "execution_count": 1,
      "metadata": {
        "id": "hbIMtXBLscmx"
      },
      "outputs": [],
      "source": [
        "import pandas as pd\n",
        "import tensorflow as tf\n",
        "import numpy as np\n",
        "from sklearn.model_selection import train_test_split\n",
        "from tensorflow.keras.preprocessing.sequence import pad_sequences\n",
        "from tensorflow.keras.utils import to_categorical\n",
        "from collections import Counter\n",
        "from tensorflow.keras.models import Model\n",
        "from tensorflow.keras.layers import Input, Embedding, LSTM, Bidirectional, Dense, TimeDistributed, Dropout\n",
        "from tensorflow.keras.utils import plot_model\n",
        "from sklearn.metrics import classification_report\n",
        "from IPython import get_ipython\n",
        "from IPython.display import display"
      ]
    },
    {
      "cell_type": "code",
      "execution_count": 2,
      "metadata": {
        "colab": {
          "base_uri": "https://localhost:8080/",
          "height": 206
        },
        "id": "t76-Paqz2K1s",
        "outputId": "799cac2f-47f0-4706-ec47-18d3ff383a7a"
      },
      "outputs": [
        {
          "data": {
            "text/html": [
              "<div>\n",
              "<style scoped>\n",
              "    .dataframe tbody tr th:only-of-type {\n",
              "        vertical-align: middle;\n",
              "    }\n",
              "\n",
              "    .dataframe tbody tr th {\n",
              "        vertical-align: top;\n",
              "    }\n",
              "\n",
              "    .dataframe thead th {\n",
              "        text-align: right;\n",
              "    }\n",
              "</style>\n",
              "<table border=\"1\" class=\"dataframe\">\n",
              "  <thead>\n",
              "    <tr style=\"text-align: right;\">\n",
              "      <th></th>\n",
              "      <th>-DOCSTART-</th>\n",
              "      <th>-X-</th>\n",
              "      <th>-X-.1</th>\n",
              "      <th>O</th>\n",
              "    </tr>\n",
              "  </thead>\n",
              "  <tbody>\n",
              "    <tr>\n",
              "      <th>0</th>\n",
              "      <td>EU</td>\n",
              "      <td>NNP</td>\n",
              "      <td>B-NP</td>\n",
              "      <td>B-ORG</td>\n",
              "    </tr>\n",
              "    <tr>\n",
              "      <th>1</th>\n",
              "      <td>rejects</td>\n",
              "      <td>VBZ</td>\n",
              "      <td>B-VP</td>\n",
              "      <td>O</td>\n",
              "    </tr>\n",
              "    <tr>\n",
              "      <th>2</th>\n",
              "      <td>German</td>\n",
              "      <td>JJ</td>\n",
              "      <td>B-NP</td>\n",
              "      <td>B-MISC</td>\n",
              "    </tr>\n",
              "    <tr>\n",
              "      <th>3</th>\n",
              "      <td>call</td>\n",
              "      <td>NN</td>\n",
              "      <td>I-NP</td>\n",
              "      <td>O</td>\n",
              "    </tr>\n",
              "    <tr>\n",
              "      <th>4</th>\n",
              "      <td>to</td>\n",
              "      <td>TO</td>\n",
              "      <td>B-VP</td>\n",
              "      <td>O</td>\n",
              "    </tr>\n",
              "  </tbody>\n",
              "</table>\n",
              "</div>"
            ],
            "text/plain": [
              "  -DOCSTART-  -X- -X-.1       O\n",
              "0         EU  NNP  B-NP   B-ORG\n",
              "1    rejects  VBZ  B-VP       O\n",
              "2     German   JJ  B-NP  B-MISC\n",
              "3       call   NN  I-NP       O\n",
              "4         to   TO  B-VP       O"
            ]
          },
          "execution_count": 2,
          "metadata": {},
          "output_type": "execute_result"
        }
      ],
      "source": [
        "# Charger le jeu de données\n",
        "df=pd.read_csv(\"eng.train\", sep=\" \")\n",
        "df.head()"
      ]
    },
    {
      "cell_type": "code",
      "execution_count": 3,
      "metadata": {
        "id": "8MzvPPgVw1Yh"
      },
      "outputs": [],
      "source": [
        "# Fonction pour charger un jeu de données au format CoNLL\n",
        "def load_conll_dataset(file_path):\n",
        "    \"\"\"\n",
        "    Charge un jeu de données au format CoNLL à partir d'un fichier.\n",
        "\n",
        "    Args:\n",
        "        file_path (str): Le chemin d'accès au fichier du jeu de données.\n",
        "\n",
        "    Returns:\n",
        "        tuple: Un tuple contenant deux listes :\n",
        "            - sentences: Une liste de phrases, où chaque phrase est une liste de mots.\n",
        "            - tags: Une liste de séquences d'étiquettes, où chaque séquence d'étiquettes correspond à une phrase.\n",
        "    \"\"\"\n",
        "    sentences, tags = [], []  # Initialisation des listes pour les phrases et les étiquettes\n",
        "    current_sentence, current_tags = [], []  # Initialisation des listes pour la phrase et les étiquettes courantes\n",
        "\n",
        "    # Ouvrir le fichier en mode lecture ('r')\n",
        "    with open(file_path, 'r') as file:\n",
        "        # Parcourir chaque ligne du fichier\n",
        "        for line in file:\n",
        "            line = line.strip()  # Supprimer les espaces blancs au début et à la fin de la ligne\n",
        "\n",
        "            # Si la ligne est vide, cela indique la fin d'une phrase\n",
        "            if not line:\n",
        "                # Si la phrase courante n'est pas vide, l'ajouter aux listes sentences et tags\n",
        "                if current_sentence:\n",
        "                    sentences.append(current_sentence)\n",
        "                    tags.append(current_tags)\n",
        "                    current_sentence, current_tags = [], []  # Réinitialiser les listes pour la phrase et les étiquettes courantes\n",
        "            # Sinon, la ligne contient un mot et son étiquette\n",
        "            else:\n",
        "                # Diviser la ligne en mot et étiquette en utilisant l'espace comme séparateur\n",
        "                word, tag = line.split()[0], line.split()[-1]\n",
        "                # Ajouter le mot et l'étiquette aux listes courantes\n",
        "                current_sentence.append(word)\n",
        "                current_tags.append(tag)\n",
        "\n",
        "        # Si la dernière phrase n'a pas été ajoutée, l'ajouter aux listes sentences et tags\n",
        "        if current_sentence:\n",
        "            sentences.append(current_sentence)\n",
        "            tags.append(current_tags)\n",
        "\n",
        "    # Retourner les listes sentences et tags\n",
        "    return sentences, tags"
      ]
    },
    {
      "cell_type": "code",
      "execution_count": 4,
      "metadata": {
        "id": "RuhmzfLCwpHu"
      },
      "outputs": [],
      "source": [
        "# Importer le module Counter pour compter les occurrences\n",
        "from collections import Counter\n",
        "\n",
        "# Définir une fonction pour créer le vocabulaire et les ensembles d'étiquettes\n",
        "def create_vocab_and_tags(sentences, tags):\n",
        "    \"\"\"\n",
        "    Crée le vocabulaire, les mappages mot-index, étiquette-index et index-étiquette.\n",
        "\n",
        "    Args:\n",
        "        sentences (list): Liste de phrases (listes de mots).\n",
        "        tags (list): Liste de séquences d'étiquettes (listes d'étiquettes).\n",
        "\n",
        "    Returns:\n",
        "        tuple: Un tuple contenant trois dictionnaires :\n",
        "            - word_to_idx: Mappage des mots à leurs index.\n",
        "            - tag_to_idx: Mappage des étiquettes à leurs index.\n",
        "            - idx_to_tag: Mappage des index à leurs étiquettes.\n",
        "    \"\"\"\n",
        "    # Compter les occurrences de chaque mot dans toutes les phrases\n",
        "    word_counter = Counter(word for sentence in sentences for word in sentence)\n",
        "    # Créer un ensemble unique d'étiquettes\n",
        "    tag_set = set(tag for tag_seq in tags for tag in tag_seq)\n",
        "\n",
        "    # Créer un mappage mot-index, en commençant par 2 pour réserver 0 et 1 pour <PAD> et <UNK>\n",
        "    word_to_idx = {word: idx + 2 for idx, word in enumerate(word_counter.keys())}\n",
        "    word_to_idx[\"<PAD>\"] = 0  # Index pour le padding (rembourrage)\n",
        "    word_to_idx[\"<UNK>\"] = 1  # Index pour les mots inconnus\n",
        "\n",
        "    # Créer un mappage étiquette-index et index-étiquette\n",
        "    tag_to_idx = {tag: idx for idx, tag in enumerate(tag_set)}\n",
        "    idx_to_tag = {idx: tag for tag, idx in tag_to_idx.items()}\n",
        "\n",
        "    # Retourner les trois dictionnaires\n",
        "    return word_to_idx, tag_to_idx, idx_to_tag\n",
        "\n",
        "sentences, tags = load_conll_dataset(\"eng.train\")  # Charger le jeu de données\n",
        "# Appeler la fonction pour créer les dictionnaires de vocabulaire et d'étiquettes\n",
        "word_to_idx, tag_to_idx, idx_to_tag = create_vocab_and_tags(sentences, tags)"
      ]
    },
    {
      "cell_type": "code",
      "execution_count": 5,
      "metadata": {
        "id": "3n889OL_wwLN"
      },
      "outputs": [],
      "source": [
        "# Convertir les mots et les étiquettes en indices et appliquer le padding aux séquences\n",
        "def prepare_data(sentences, tags, word_to_idx, tag_to_idx, max_len=50):\n",
        "    \"\"\"\n",
        "    Prépare les données pour l'entraînement du modèle.\n",
        "\n",
        "    Convertit les mots et les étiquettes en indices numériques\n",
        "    et applique le padding aux séquences pour qu'elles aient toutes la même longueur.\n",
        "\n",
        "    \"\"\"\n",
        "    # Convertir les mots en indices, en utilisant l'index de <UNK> pour les mots inconnus\n",
        "    X = [[word_to_idx.get(word, word_to_idx[\"<UNK>\"]) for word in sentence] for sentence in sentences]\n",
        "    # Convertir les étiquettes en indices\n",
        "    y = [[tag_to_idx[tag] for tag in tag_seq] for tag_seq in tags]\n",
        "\n",
        "    # Appliquer le padding aux séquences de mots et d'étiquettes\n",
        "    X = pad_sequences(X, maxlen=max_len, padding=\"post\", value=word_to_idx[\"<PAD>\"])\n",
        "    y = pad_sequences(y, maxlen=max_len, padding=\"post\", value=tag_to_idx[\"O\"])\n",
        "    # Encoder les étiquettes en one-hot\n",
        "    y = [to_categorical(seq, num_classes=len(tag_to_idx)) for seq in y]\n",
        "\n",
        "    # Retourner les tableaux NumPy\n",
        "    return np.array(X), np.array(y)\n",
        "\n",
        "# Diviser les données en ensembles d'entraînement et de test\n",
        "max_len = 50  # Longueur maximale des séquences\n",
        "X, y = prepare_data(sentences, tags, word_to_idx, tag_to_idx, max_len)  # Préparer les données\n",
        "X_train, X_test, y_train, y_test = train_test_split(X, y, test_size=0.2, random_state=42)  # Diviser les données"
      ]
    },
    {
      "cell_type": "code",
      "execution_count": 6,
      "metadata": {
        "colab": {
          "base_uri": "https://localhost:8080/"
        },
        "id": "dMXnp95Ow6Iu",
        "outputId": "a606bcf6-7a69-4dcf-fbcf-7cbbf737ad07"
      },
      "outputs": [
        {
          "name": "stderr",
          "output_type": "stream",
          "text": [
            "c:\\Users\\Mohamed\\Desktop\\INDIA S3\\Deep Learning\\NER project\\venv\\Lib\\site-packages\\keras\\src\\layers\\core\\embedding.py:90: UserWarning: Argument `input_length` is deprecated. Just remove it.\n",
            "  warnings.warn(\n"
          ]
        },
        {
          "data": {
            "text/html": [
              "<pre style=\"white-space:pre;overflow-x:auto;line-height:normal;font-family:Menlo,'DejaVu Sans Mono',consolas,'Courier New',monospace\"><span style=\"font-weight: bold\">Model: \"functional\"</span>\n",
              "</pre>\n"
            ],
            "text/plain": [
              "\u001b[1mModel: \"functional\"\u001b[0m\n"
            ]
          },
          "metadata": {},
          "output_type": "display_data"
        },
        {
          "data": {
            "text/html": [
              "<pre style=\"white-space:pre;overflow-x:auto;line-height:normal;font-family:Menlo,'DejaVu Sans Mono',consolas,'Courier New',monospace\">┏━━━━━━━━━━━━━━━━━━━━━━━━━━━━━━━━━┳━━━━━━━━━━━━━━━━━━━━━━━━┳━━━━━━━━━━━━━━━┓\n",
              "┃<span style=\"font-weight: bold\"> Layer (type)                    </span>┃<span style=\"font-weight: bold\"> Output Shape           </span>┃<span style=\"font-weight: bold\">       Param # </span>┃\n",
              "┡━━━━━━━━━━━━━━━━━━━━━━━━━━━━━━━━━╇━━━━━━━━━━━━━━━━━━━━━━━━╇━━━━━━━━━━━━━━━┩\n",
              "│ input_layer (<span style=\"color: #0087ff; text-decoration-color: #0087ff\">InputLayer</span>)        │ (<span style=\"color: #00d7ff; text-decoration-color: #00d7ff\">None</span>, <span style=\"color: #00af00; text-decoration-color: #00af00\">50</span>)             │             <span style=\"color: #00af00; text-decoration-color: #00af00\">0</span> │\n",
              "├─────────────────────────────────┼────────────────────────┼───────────────┤\n",
              "│ embedding (<span style=\"color: #0087ff; text-decoration-color: #0087ff\">Embedding</span>)           │ (<span style=\"color: #00d7ff; text-decoration-color: #00d7ff\">None</span>, <span style=\"color: #00af00; text-decoration-color: #00af00\">50</span>, <span style=\"color: #00af00; text-decoration-color: #00af00\">100</span>)        │     <span style=\"color: #00af00; text-decoration-color: #00af00\">2,362,600</span> │\n",
              "├─────────────────────────────────┼────────────────────────┼───────────────┤\n",
              "│ dropout (<span style=\"color: #0087ff; text-decoration-color: #0087ff\">Dropout</span>)               │ (<span style=\"color: #00d7ff; text-decoration-color: #00d7ff\">None</span>, <span style=\"color: #00af00; text-decoration-color: #00af00\">50</span>, <span style=\"color: #00af00; text-decoration-color: #00af00\">100</span>)        │             <span style=\"color: #00af00; text-decoration-color: #00af00\">0</span> │\n",
              "├─────────────────────────────────┼────────────────────────┼───────────────┤\n",
              "│ bidirectional (<span style=\"color: #0087ff; text-decoration-color: #0087ff\">Bidirectional</span>)   │ (<span style=\"color: #00d7ff; text-decoration-color: #00d7ff\">None</span>, <span style=\"color: #00af00; text-decoration-color: #00af00\">50</span>, <span style=\"color: #00af00; text-decoration-color: #00af00\">256</span>)        │       <span style=\"color: #00af00; text-decoration-color: #00af00\">234,496</span> │\n",
              "├─────────────────────────────────┼────────────────────────┼───────────────┤\n",
              "│ time_distributed                │ (<span style=\"color: #00d7ff; text-decoration-color: #00d7ff\">None</span>, <span style=\"color: #00af00; text-decoration-color: #00af00\">50</span>, <span style=\"color: #00af00; text-decoration-color: #00af00\">9</span>)          │         <span style=\"color: #00af00; text-decoration-color: #00af00\">2,313</span> │\n",
              "│ (<span style=\"color: #0087ff; text-decoration-color: #0087ff\">TimeDistributed</span>)               │                        │               │\n",
              "└─────────────────────────────────┴────────────────────────┴───────────────┘\n",
              "</pre>\n"
            ],
            "text/plain": [
              "┏━━━━━━━━━━━━━━━━━━━━━━━━━━━━━━━━━┳━━━━━━━━━━━━━━━━━━━━━━━━┳━━━━━━━━━━━━━━━┓\n",
              "┃\u001b[1m \u001b[0m\u001b[1mLayer (type)                   \u001b[0m\u001b[1m \u001b[0m┃\u001b[1m \u001b[0m\u001b[1mOutput Shape          \u001b[0m\u001b[1m \u001b[0m┃\u001b[1m \u001b[0m\u001b[1m      Param #\u001b[0m\u001b[1m \u001b[0m┃\n",
              "┡━━━━━━━━━━━━━━━━━━━━━━━━━━━━━━━━━╇━━━━━━━━━━━━━━━━━━━━━━━━╇━━━━━━━━━━━━━━━┩\n",
              "│ input_layer (\u001b[38;5;33mInputLayer\u001b[0m)        │ (\u001b[38;5;45mNone\u001b[0m, \u001b[38;5;34m50\u001b[0m)             │             \u001b[38;5;34m0\u001b[0m │\n",
              "├─────────────────────────────────┼────────────────────────┼───────────────┤\n",
              "│ embedding (\u001b[38;5;33mEmbedding\u001b[0m)           │ (\u001b[38;5;45mNone\u001b[0m, \u001b[38;5;34m50\u001b[0m, \u001b[38;5;34m100\u001b[0m)        │     \u001b[38;5;34m2,362,600\u001b[0m │\n",
              "├─────────────────────────────────┼────────────────────────┼───────────────┤\n",
              "│ dropout (\u001b[38;5;33mDropout\u001b[0m)               │ (\u001b[38;5;45mNone\u001b[0m, \u001b[38;5;34m50\u001b[0m, \u001b[38;5;34m100\u001b[0m)        │             \u001b[38;5;34m0\u001b[0m │\n",
              "├─────────────────────────────────┼────────────────────────┼───────────────┤\n",
              "│ bidirectional (\u001b[38;5;33mBidirectional\u001b[0m)   │ (\u001b[38;5;45mNone\u001b[0m, \u001b[38;5;34m50\u001b[0m, \u001b[38;5;34m256\u001b[0m)        │       \u001b[38;5;34m234,496\u001b[0m │\n",
              "├─────────────────────────────────┼────────────────────────┼───────────────┤\n",
              "│ time_distributed                │ (\u001b[38;5;45mNone\u001b[0m, \u001b[38;5;34m50\u001b[0m, \u001b[38;5;34m9\u001b[0m)          │         \u001b[38;5;34m2,313\u001b[0m │\n",
              "│ (\u001b[38;5;33mTimeDistributed\u001b[0m)               │                        │               │\n",
              "└─────────────────────────────────┴────────────────────────┴───────────────┘\n"
            ]
          },
          "metadata": {},
          "output_type": "display_data"
        },
        {
          "data": {
            "text/html": [
              "<pre style=\"white-space:pre;overflow-x:auto;line-height:normal;font-family:Menlo,'DejaVu Sans Mono',consolas,'Courier New',monospace\"><span style=\"font-weight: bold\"> Total params: </span><span style=\"color: #00af00; text-decoration-color: #00af00\">2,599,409</span> (9.92 MB)\n",
              "</pre>\n"
            ],
            "text/plain": [
              "\u001b[1m Total params: \u001b[0m\u001b[38;5;34m2,599,409\u001b[0m (9.92 MB)\n"
            ]
          },
          "metadata": {},
          "output_type": "display_data"
        },
        {
          "data": {
            "text/html": [
              "<pre style=\"white-space:pre;overflow-x:auto;line-height:normal;font-family:Menlo,'DejaVu Sans Mono',consolas,'Courier New',monospace\"><span style=\"font-weight: bold\"> Trainable params: </span><span style=\"color: #00af00; text-decoration-color: #00af00\">2,599,409</span> (9.92 MB)\n",
              "</pre>\n"
            ],
            "text/plain": [
              "\u001b[1m Trainable params: \u001b[0m\u001b[38;5;34m2,599,409\u001b[0m (9.92 MB)\n"
            ]
          },
          "metadata": {},
          "output_type": "display_data"
        },
        {
          "data": {
            "text/html": [
              "<pre style=\"white-space:pre;overflow-x:auto;line-height:normal;font-family:Menlo,'DejaVu Sans Mono',consolas,'Courier New',monospace\"><span style=\"font-weight: bold\"> Non-trainable params: </span><span style=\"color: #00af00; text-decoration-color: #00af00\">0</span> (0.00 B)\n",
              "</pre>\n"
            ],
            "text/plain": [
              "\u001b[1m Non-trainable params: \u001b[0m\u001b[38;5;34m0\u001b[0m (0.00 B)\n"
            ]
          },
          "metadata": {},
          "output_type": "display_data"
        },
        {
          "data": {
            "image/png": "[encoded data removed]",
            "text/plain": [
              "<IPython.core.display.Image object>"
            ]
          },
          "execution_count": 6,
          "metadata": {},
          "output_type": "execute_result"
        }
      ],
      "source": [
        "# Définir la fonction pour construire le modèle\n",
        "def build_model(vocab_size, tag_size, embedding_dim=100, hidden_units=128, max_len=50):\n",
        "\n",
        "    # Définir la couche d'entrée\n",
        "    input = Input(shape=(max_len,))\n",
        "    # Couche d'embedding pour représenter les mots en vecteurs\n",
        "    model = Embedding(input_dim=vocab_size, output_dim=embedding_dim, input_length=max_len)(input)\n",
        "    # Couche de dropout pour éviter le surapprentissage\n",
        "    model = Dropout(0.1)(model)\n",
        "    # Couche LSTM bidirectionnelle pour capturer les dépendances contextuelles\n",
        "    model = Bidirectional(LSTM(units=hidden_units, return_sequences=True))(model)\n",
        "    # Couche Dense pour la classification des étiquettes pour chaque mot\n",
        "    out = TimeDistributed(Dense(tag_size, activation=\"softmax\"))(model)\n",
        "\n",
        "    # Créer le modèle Keras\n",
        "    model = Model(input, out)\n",
        "    # Compiler le modèle avec l'optimiseur Adam, la fonction de perte categorical_crossentropy et la métrique accuracy\n",
        "    model.compile(optimizer=\"adam\", loss=\"categorical_crossentropy\", metrics=[\"accuracy\"])\n",
        "    # Retourner le modèle compilé\n",
        "    return model\n",
        "\n",
        "# Créer une instance du modèle\n",
        "model = build_model(vocab_size=len(word_to_idx), tag_size=len(tag_to_idx), max_len=max_len)\n",
        "# Afficher un résumé du modèle\n",
        "model.summary()\n",
        "plot_model(model,show_shapes=True)"
      ]
    },
    {
      "cell_type": "code",
      "execution_count": 7,
      "metadata": {
        "colab": {
          "base_uri": "https://localhost:8080/"
        },
        "id": "99wjdYunw8h0",
        "outputId": "ba58bdcd-6087-46b9-9d32-e11c3e2989f1"
      },
      "outputs": [
        {
          "name": "stdout",
          "output_type": "stream",
          "text": [
            "Epoch 1/5\n",
            "\u001b[1m300/300\u001b[0m \u001b[32m━━━━━━━━━━━━━━━━━━━━\u001b[0m\u001b[37m\u001b[0m \u001b[1m50s\u001b[0m 129ms/step - accuracy: 0.9354 - loss: 0.3339 - val_accuracy: 0.9660 - val_loss: 0.1046\n",
            "Epoch 2/5\n",
            "\u001b[1m300/300\u001b[0m \u001b[32m━━━━━━━━━━━━━━━━━━━━\u001b[0m\u001b[37m\u001b[0m \u001b[1m38s\u001b[0m 126ms/step - accuracy: 0.9735 - loss: 0.0813 - val_accuracy: 0.9822 - val_loss: 0.0596\n",
            "Epoch 3/5\n",
            "\u001b[1m300/300\u001b[0m \u001b[32m━━━━━━━━━━━━━━━━━━━━\u001b[0m\u001b[37m\u001b[0m \u001b[1m31s\u001b[0m 102ms/step - accuracy: 0.9893 - loss: 0.0375 - val_accuracy: 0.9891 - val_loss: 0.0410\n",
            "Epoch 4/5\n",
            "\u001b[1m300/300\u001b[0m \u001b[32m━━━━━━━━━━━━━━━━━━━━\u001b[0m\u001b[37m\u001b[0m \u001b[1m33s\u001b[0m 111ms/step - accuracy: 0.9964 - loss: 0.0157 - val_accuracy: 0.9904 - val_loss: 0.0352\n",
            "Epoch 5/5\n",
            "\u001b[1m300/300\u001b[0m \u001b[32m━━━━━━━━━━━━━━━━━━━━\u001b[0m\u001b[37m\u001b[0m \u001b[1m35s\u001b[0m 115ms/step - accuracy: 0.9981 - loss: 0.0085 - val_accuracy: 0.9908 - val_loss: 0.0338\n"
          ]
        }
      ],
      "source": [
        "# Entraîner le modèle\n",
        "history = model.fit(\n",
        "    X_train, y_train,\n",
        "    batch_size=32,  # Taille des lots (batch size)\n",
        "    epochs=5,  # Nombre d'époques d'entraînement\n",
        "    validation_split=0.2  # Proportion des données d'entraînement à utiliser pour la validation\n",
        ")"
      ]
    },
    {
      "cell_type": "code",
      "execution_count": 8,
      "metadata": {
        "colab": {
          "base_uri": "https://localhost:8080/"
        },
        "id": "gJQ9G72gxAcQ",
        "outputId": "25d449fc-7786-4d94-db0f-85b2454ea707"
      },
      "outputs": [
        {
          "name": "stdout",
          "output_type": "stream",
          "text": [
            "\u001b[1m94/94\u001b[0m \u001b[32m━━━━━━━━━━━━━━━━━━━━\u001b[0m\u001b[37m\u001b[0m \u001b[1m3s\u001b[0m 29ms/step - accuracy: 0.9900 - loss: 0.0373\n",
            "Test Loss: 0.0350\n",
            "Test Accuracy: 0.9906\n",
            "\u001b[1m94/94\u001b[0m \u001b[32m━━━━━━━━━━━━━━━━━━━━\u001b[0m\u001b[37m\u001b[0m \u001b[1m5s\u001b[0m 37ms/step\n"
          ]
        }
      ],
      "source": [
        "# Évaluer le modèle\n",
        "test_loss, test_accuracy = model.evaluate(X_test, y_test)  # Évaluer le modèle sur les données de test\n",
        "print(f\"Test Loss: {test_loss:.4f}\")  # Afficher la perte sur les données de test\n",
        "print(f\"Test Accuracy: {test_accuracy:.4f}\")  # Afficher la précision sur les données de test\n",
        "\n",
        "# Prédire sur l'ensemble de test\n",
        "y_pred = model.predict(X_test)  # Obtenir les prédictions du modèle\n",
        "y_pred = np.argmax(y_pred, axis=-1)  # Convertir les prédictions en indices d'étiquettes\n",
        "y_true = np.argmax(y_test, axis=-1)  # Convertir les vraies étiquettes en indices d'étiquettes"
      ]
    },
    {
      "cell_type": "code",
      "execution_count": 9,
      "metadata": {
        "colab": {
          "base_uri": "https://localhost:8080/"
        },
        "id": "crDUhBA-xD4V",
        "outputId": "3a3838aa-6d56-4848-8c01-d5cdbc1764de"
      },
      "outputs": [
        {
          "name": "stdout",
          "output_type": "stream",
          "text": [
            "              precision    recall  f1-score   support\n",
            "\n",
            "       B-LOC       0.92      0.83      0.88      1412\n",
            "       B-ORG       0.87      0.82      0.85      1216\n",
            "       B-PER       0.88      0.85      0.87      1386\n",
            "       I-LOC       0.82      0.67      0.73       237\n",
            "      I-MISC       0.64      0.70      0.67       264\n",
            "       I-ORG       0.80      0.78      0.79       716\n",
            "       I-PER       0.90      0.81      0.85       961\n",
            "           O       0.99      1.00      1.00    142927\n",
            "\n",
            "    accuracy                           0.99    149119\n",
            "   macro avg       0.85      0.81      0.83    149119\n",
            "weighted avg       0.99      0.99      0.99    149119\n",
            "\n"
          ]
        }
      ],
      "source": [
        "# Décoder les prédictions\n",
        "def decode_predictions(y_indices, idx_to_tag):\n",
        "    \"\"\"Convertit les indices en étiquettes, en excluant les indices de padding.\"\"\"\n",
        "    decoded = []\n",
        "    for seq in y_indices:\n",
        "        decoded_seq = [idx_to_tag[idx] for idx in seq if idx != 0]  # Ignore l'index de padding (0)\n",
        "        decoded.append(decoded_seq)\n",
        "    return decoded\n",
        "\n",
        "# Décoder les prédictions et les vraies étiquettes\n",
        "y_pred_tags = decode_predictions(y_pred, idx_to_tag)\n",
        "y_true_tags = decode_predictions(y_true, idx_to_tag)\n",
        "\n",
        "# Aligner les longueurs pour l'évaluation\n",
        "aligned_y_true = []\n",
        "aligned_y_pred = []\n",
        "\n",
        "for true_seq, pred_seq in zip(y_true_tags, y_pred_tags):\n",
        "    min_len = min(len(true_seq), len(pred_seq))\n",
        "    aligned_y_true.extend(true_seq[:min_len])\n",
        "    aligned_y_pred.extend(pred_seq[:min_len])\n",
        "\n",
        "# Évaluer en utilisant le rapport de classification\n",
        "print(classification_report(aligned_y_true, aligned_y_pred))  # Afficher le rapport de classification"
      ]
    },
    {
      "cell_type": "code",
      "execution_count": 10,
      "metadata": {},
      "outputs": [
        {
          "data": {
            "text/plain": [
              "{0: 'B-MISC',\n",
              " 1: 'I-PER',\n",
              " 2: 'I-LOC',\n",
              " 3: 'O',\n",
              " 4: 'B-LOC',\n",
              " 5: 'I-MISC',\n",
              " 6: 'B-ORG',\n",
              " 7: 'B-PER',\n",
              " 8: 'I-ORG'}"
            ]
          },
          "execution_count": 10,
          "metadata": {},
          "output_type": "execute_result"
        }
      ],
      "source": [
        "idx_to_tag"
      ]
    },
    {
      "cell_type": "code",
      "execution_count": 11,
      "metadata": {
        "id": "upaCfUYt2aRf"
      },
      "outputs": [],
      "source": [
        "tag_names = {\n",
        "      0: 'Miscellaneous' ,\n",
        "      1: 'Person',\n",
        "      2: 'Location' ,\n",
        "      3: 'Other' ,\n",
        "      4: 'Location' ,\n",
        "      5: 'Miscellaneous' ,\n",
        "      6: 'Organization',\n",
        "      7: 'Person',\n",
        "      8: 'Organization'\n",
        "    }"
      ]
    },
    {
      "cell_type": "code",
      "execution_count": 20,
      "metadata": {
        "colab": {
          "base_uri": "https://localhost:8080/"
        },
        "id": "Siz9phbL0ddP",
        "outputId": "54db3a2a-6735-4674-da0a-b13c25aa0b5b"
      },
      "outputs": [
        {
          "name": "stdout",
          "output_type": "stream",
          "text": [
            "\u001b[1m1/1\u001b[0m \u001b[32m━━━━━━━━━━━━━━━━━━━━\u001b[0m\u001b[37m\u001b[0m \u001b[1m0s\u001b[0m 47ms/step\n",
            "Google          Other\n",
            "and             Other\n",
            "Microsoft       Organization\n",
            "are             Other\n",
            "competing       Other\n",
            "in              Other\n",
            "the             Other\n",
            "AI              Miscellaneous\n",
            "market.         Miscellaneous\n"
          ]
        }
      ],
      "source": [
        "# Définir une fonction pour tester le modèle sur une phrase personnalisée\n",
        "def test_sentence(sentence, model, word_to_idx, idx_to_tag, max_len=50):\n",
        "    \"\"\"\n",
        "    Teste le modèle NER sur une phrase donnée.\n",
        "\n",
        "    Args:\n",
        "        sentence (str): La phrase d'entrée.\n",
        "        model (keras.Model): Le modèle NER entraîné.\n",
        "        word_to_idx (dict): Mappage des mots à leurs indices.\n",
        "        idx_to_tag (dict): Mappage des indices à leurs étiquettes.\n",
        "        max_len (int): Longueur maximale de la séquence pour le padding.\n",
        "\n",
        "    Returns:\n",
        "        list: Liste de tuples, chaque tuple contenant un mot et son étiquette prédite.\n",
        "    \"\"\"\n",
        "    # Tokeniser la phrase\n",
        "    tokens = sentence.split()\n",
        "\n",
        "    # Convertir les tokens en indices\n",
        "    token_indices = [word_to_idx.get(word, word_to_idx[\"<UNK>\"]) for word in tokens]\n",
        "\n",
        "    # Appliquer le padding à la séquence\n",
        "    token_indices_padded = pad_sequences([token_indices], maxlen=max_len, padding=\"post\", value=word_to_idx[\"<PAD>\"])\n",
        "\n",
        "    # Faire des prédictions\n",
        "    predictions = model.predict(token_indices_padded)\n",
        "    predicted_indices = np.argmax(predictions, axis=-1)[0]  # Obtenir les indices des étiquettes les plus probables\n",
        "\n",
        "    # Décoder les prédictions\n",
        "    #predicted_tags = [idx_to_tag[idx] for idx in predicted_indices[:len(tokens)]]\n",
        "\n",
        "    predicted_tags = [tag_names[idx] for idx in predicted_indices[:len(tokens)]]\n",
        "\n",
        "\n",
        "    # Associer les mots à leurs étiquettes\n",
        "    return list(zip(tokens, predicted_tags))\n",
        "\n",
        "# Exemple d'utilisation\n",
        "custom_sentence = \"Google and Microsoft are competing in the AI market.\"  # Phrase à tester\n",
        "predictions = test_sentence(custom_sentence, model, word_to_idx, tag_names)  # Appeler la fonction de test\n",
        "\n",
        "# Afficher les résultats\n",
        "for word, tag in predictions:  # Parcourir les prédictions\n",
        "    print(f\"{word:15} {tag}\")  # Afficher le mot et son étiquette"
      ]
    },
    {
      "cell_type": "code",
      "execution_count": 13,
      "metadata": {
        "id": "1WalRUjZ1g3O"
      },
      "outputs": [],
      "source": [
        "def display_ner_predictions(sentence, predictions, tag_names):\n",
        "    \"\"\"\n",
        "    Displays NER predictions in a user-friendly format.\n",
        "\n",
        "    Args:\n",
        "        sentence: The input sentence.\n",
        "        predictions: A list of (word, tag_id) tuples.\n",
        "        tag_mapping: A dictionary mapping tag IDs to readable tag names.\n",
        "    \"\"\"\n",
        "\n",
        "    entities = []\n",
        "    current_entity = []\n",
        "    for word, tag in predictions:\n",
        "\n",
        "        if tag != \"Other\":  # Beginning of a new entity or inside an existing one\n",
        "            if not current_entity or current_entity[0][1] == tag:\n",
        "                current_entity.append((word, tag))\n",
        "            else: # Different entity type\n",
        "                entities.append((\" \".join([w for w, _ in current_entity]), current_entity[0][1]))\n",
        "                current_entity = [(word, tag)]\n",
        "        else:  # Outside any entity (O tag)\n",
        "            if current_entity:\n",
        "                entities.append((\" \".join([w for w, _ in current_entity]), current_entity[0][1]))\n",
        "            current_entity = []\n",
        "\n",
        "    if current_entity:\n",
        "        entities.append((\" \".join([w for w, _ in current_entity]), current_entity[0][1]))\n",
        "\n",
        "    result = {}\n",
        "    if entities:\n",
        "        print(\"Entities:\")\n",
        "        for entity_text, entity_type in entities:\n",
        "            result[entity_text] = entity_type\n",
        "            print(f\"- {entity_text} ({entity_type})\")\n",
        "    else:\n",
        "        print(\"No entities found.\")\n",
        "\n",
        "    return result"
      ]
    },
    {
      "cell_type": "code",
      "execution_count": 14,
      "metadata": {
        "colab": {
          "base_uri": "https://localhost:8080/"
        },
        "id": "POuVFTWP1jQX",
        "outputId": "9301c12e-098c-40df-8db2-702c5a5b9651"
      },
      "outputs": [
        {
          "name": "stdout",
          "output_type": "stream",
          "text": [
            "Entities:\n",
            "- Microsoft (Organization)\n",
            "- AI market. (Miscellaneous)\n"
          ]
        }
      ],
      "source": [
        "result = display_ner_predictions(custom_sentence, predictions, tag_names)"
      ]
    },
    {
      "cell_type": "code",
      "execution_count": 15,
      "metadata": {
        "colab": {
          "base_uri": "https://localhost:8080/"
        },
        "id": "F927eoY123QK",
        "outputId": "13c40d3c-9ab0-406b-a5af-2362e8c30951"
      },
      "outputs": [
        {
          "name": "stdout",
          "output_type": "stream",
          "text": [
            "{'Microsoft': 'Organization', 'AI market.': 'Miscellaneous'}\n"
          ]
        }
      ],
      "source": [
        "print(result)"
      ]
    },
    {
      "cell_type": "code",
      "execution_count": 17,
      "metadata": {
        "id": "IDY4XfRCufrQ"
      },
      "outputs": [],
      "source": [
        "# Sauvegarder le modèle\n",
        "model.save('ner_model_2.keras')"
      ]
    },
    {
      "cell_type": "code",
      "execution_count": 19,
      "metadata": {},
      "outputs": [],
      "source": [
        "import json\n",
        "\n",
        "# Serialize the word2id dictionary to a JSON file\n",
        "with open('word_to_idx.json', 'w') as f:\n",
        "    json.dump(word_to_idx, f)\n",
        "\n"
      ]
    },
    {
      "cell_type": "code",
      "execution_count": null,
      "metadata": {},
      "outputs": [],
      "source": []
    }
  ],
  "metadata": {
    "accelerator": "TPU",
    "colab": {
      "gpuType": "V28",
      "provenance": []
    },
    "kernelspec": {
      "display_name": "venv",
      "language": "python",
      "name": "python3"
    },
    "language_info": {
      "codemirror_mode": {
        "name": "ipython",
        "version": 3
      },
      "file_extension": ".py",
      "mimetype": "text/x-python",
      "name": "python",
      "nbconvert_exporter": "python",
      "pygments_lexer": "ipython3",
      "version": "3.12.5"
    }
  },
  "nbformat": 4,
  "nbformat_minor": 0
}
