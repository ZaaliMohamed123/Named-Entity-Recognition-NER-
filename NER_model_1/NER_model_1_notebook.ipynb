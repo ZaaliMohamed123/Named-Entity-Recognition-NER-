{
  "cells": [
    {
      "cell_type": "code",
      "execution_count": 2,
      "metadata": {
        "id": "pIyrDDDfktq5"
      },
      "outputs": [],
      "source": [
        "import numpy as np\n",
        "import pandas as pd\n",
        "import tensorflow\n",
        "from tensorflow.keras.preprocessing.sequence import pad_sequences\n",
        "from tensorflow.keras.utils import to_categorical\n",
        "from sklearn.model_selection import train_test_split\n",
        "from tensorflow.keras import Sequential,Model, Input\n",
        "from tensorflow.keras.layers import LSTM, Embedding, Dense, TimeDistributed, Bidirectional\n",
        "from tensorflow.keras.utils import plot_model\n",
        "from tensorflow.keras.optimizers import RMSprop"
      ]
    },
    {
      "cell_type": "code",
      "execution_count": 3,
      "metadata": {
        "colab": {
          "base_uri": "https://localhost:8080/",
          "height": 457
        },
        "id": "2QEZWg9VlhNp",
        "outputId": "78f27593-1e78-489e-ef98-9df626290143"
      },
      "outputs": [
        {
          "data": {
            "text/html": [
              "<div>\n",
              "<style scoped>\n",
              "    .dataframe tbody tr th:only-of-type {\n",
              "        vertical-align: middle;\n",
              "    }\n",
              "\n",
              "    .dataframe tbody tr th {\n",
              "        vertical-align: top;\n",
              "    }\n",
              "\n",
              "    .dataframe thead th {\n",
              "        text-align: right;\n",
              "    }\n",
              "</style>\n",
              "<table border=\"1\" class=\"dataframe\">\n",
              "  <thead>\n",
              "    <tr style=\"text-align: right;\">\n",
              "      <th></th>\n",
              "      <th>Sentence #</th>\n",
              "      <th>Word</th>\n",
              "      <th>POS</th>\n",
              "      <th>Tag</th>\n",
              "    </tr>\n",
              "  </thead>\n",
              "  <tbody>\n",
              "    <tr>\n",
              "      <th>0</th>\n",
              "      <td>Sentence: 1</td>\n",
              "      <td>Thousands</td>\n",
              "      <td>NNS</td>\n",
              "      <td>O</td>\n",
              "    </tr>\n",
              "    <tr>\n",
              "      <th>1</th>\n",
              "      <td>NaN</td>\n",
              "      <td>of</td>\n",
              "      <td>IN</td>\n",
              "      <td>O</td>\n",
              "    </tr>\n",
              "    <tr>\n",
              "      <th>2</th>\n",
              "      <td>NaN</td>\n",
              "      <td>demonstrators</td>\n",
              "      <td>NNS</td>\n",
              "      <td>O</td>\n",
              "    </tr>\n",
              "    <tr>\n",
              "      <th>3</th>\n",
              "      <td>NaN</td>\n",
              "      <td>have</td>\n",
              "      <td>VBP</td>\n",
              "      <td>O</td>\n",
              "    </tr>\n",
              "    <tr>\n",
              "      <th>4</th>\n",
              "      <td>NaN</td>\n",
              "      <td>marched</td>\n",
              "      <td>VBN</td>\n",
              "      <td>O</td>\n",
              "    </tr>\n",
              "    <tr>\n",
              "      <th>5</th>\n",
              "      <td>NaN</td>\n",
              "      <td>through</td>\n",
              "      <td>IN</td>\n",
              "      <td>O</td>\n",
              "    </tr>\n",
              "    <tr>\n",
              "      <th>6</th>\n",
              "      <td>NaN</td>\n",
              "      <td>London</td>\n",
              "      <td>NNP</td>\n",
              "      <td>B-geo</td>\n",
              "    </tr>\n",
              "    <tr>\n",
              "      <th>7</th>\n",
              "      <td>NaN</td>\n",
              "      <td>to</td>\n",
              "      <td>TO</td>\n",
              "      <td>O</td>\n",
              "    </tr>\n",
              "    <tr>\n",
              "      <th>8</th>\n",
              "      <td>NaN</td>\n",
              "      <td>protest</td>\n",
              "      <td>VB</td>\n",
              "      <td>O</td>\n",
              "    </tr>\n",
              "    <tr>\n",
              "      <th>9</th>\n",
              "      <td>NaN</td>\n",
              "      <td>the</td>\n",
              "      <td>DT</td>\n",
              "      <td>O</td>\n",
              "    </tr>\n",
              "    <tr>\n",
              "      <th>10</th>\n",
              "      <td>NaN</td>\n",
              "      <td>war</td>\n",
              "      <td>NN</td>\n",
              "      <td>O</td>\n",
              "    </tr>\n",
              "    <tr>\n",
              "      <th>11</th>\n",
              "      <td>NaN</td>\n",
              "      <td>in</td>\n",
              "      <td>IN</td>\n",
              "      <td>O</td>\n",
              "    </tr>\n",
              "    <tr>\n",
              "      <th>12</th>\n",
              "      <td>NaN</td>\n",
              "      <td>Iraq</td>\n",
              "      <td>NNP</td>\n",
              "      <td>B-geo</td>\n",
              "    </tr>\n",
              "  </tbody>\n",
              "</table>\n",
              "</div>"
            ],
            "text/plain": [
              "     Sentence #           Word  POS    Tag\n",
              "0   Sentence: 1      Thousands  NNS      O\n",
              "1           NaN             of   IN      O\n",
              "2           NaN  demonstrators  NNS      O\n",
              "3           NaN           have  VBP      O\n",
              "4           NaN        marched  VBN      O\n",
              "5           NaN        through   IN      O\n",
              "6           NaN         London  NNP  B-geo\n",
              "7           NaN             to   TO      O\n",
              "8           NaN        protest   VB      O\n",
              "9           NaN            the   DT      O\n",
              "10          NaN            war   NN      O\n",
              "11          NaN             in   IN      O\n",
              "12          NaN           Iraq  NNP  B-geo"
            ]
          },
          "execution_count": 3,
          "metadata": {},
          "output_type": "execute_result"
        }
      ],
      "source": [
        "# Charger les données depuis un fichier CSV\n",
        "df = pd.read_csv('NER dataset.csv',encoding='unicode_escape',skipinitialspace=True,skip_blank_lines=True)\n",
        "df.head(13)"
      ]
    },
    {
      "cell_type": "code",
      "execution_count": 4,
      "metadata": {
        "id": "q7uwNH04l4Bb"
      },
      "outputs": [],
      "source": [
        "# Définir une fonction pour créer des dictionnaires de mapping\n",
        "def get_dict_map(data,col_name):\n",
        "  # Initialiser les dictionnaires\n",
        "  token2id = {}\n",
        "  id2token = {}\n",
        "  # Obtenir le vocabulaire unique\n",
        "  vocab = list(set(data[col_name].to_list()))\n",
        "  # Créer les dictionnaires de mapping\n",
        "  id2token = {id:token for id,token in enumerate(vocab)}\n",
        "  token2id = {token:id for id,token in enumerate(vocab)}\n",
        "  # Retourner les dictionnaires\n",
        "  return token2id,id2token"
      ]
    },
    {
      "cell_type": "code",
      "execution_count": 5,
      "metadata": {
        "id": "Dg40x1GXl6cW"
      },
      "outputs": [],
      "source": [
        "# Créer des dictionnaires de mapping pour les mots et les étiquettes\n",
        "word2id,id2word = get_dict_map(df,'Word')\n",
        "tag2id,id2tag = get_dict_map(df,'Tag')"
      ]
    },
    {
      "cell_type": "code",
      "execution_count": 6,
      "metadata": {
        "colab": {
          "base_uri": "https://localhost:8080/"
        },
        "id": "JD3R1A0El_Qo",
        "outputId": "53ad2b83-a572-40ed-b147-6c4b0cdd549c"
      },
      "outputs": [
        {
          "data": {
            "text/plain": [
              "{'O': 0,\n",
              " 'B-org': 1,\n",
              " 'B-nat': 2,\n",
              " 'B-geo': 3,\n",
              " 'B-gpe': 4,\n",
              " 'I-art': 5,\n",
              " 'B-per': 6,\n",
              " 'B-art': 7,\n",
              " 'I-per': 8,\n",
              " 'I-tim': 9,\n",
              " 'I-org': 10,\n",
              " 'I-eve': 11,\n",
              " 'I-gpe': 12,\n",
              " 'I-nat': 13,\n",
              " 'B-tim': 14,\n",
              " 'B-eve': 15,\n",
              " 'I-geo': 16}"
            ]
          },
          "execution_count": 6,
          "metadata": {},
          "output_type": "execute_result"
        }
      ],
      "source": [
        "tag2id"
      ]
    },
    {
      "cell_type": "code",
      "execution_count": 6,
      "metadata": {
        "colab": {
          "base_uri": "https://localhost:8080/",
          "height": 206
        },
        "id": "CyQDZFJCmAy8",
        "outputId": "deee3a48-51d5-4ede-f29a-562dab049442"
      },
      "outputs": [
        {
          "data": {
            "text/html": [
              "<div>\n",
              "<style scoped>\n",
              "    .dataframe tbody tr th:only-of-type {\n",
              "        vertical-align: middle;\n",
              "    }\n",
              "\n",
              "    .dataframe tbody tr th {\n",
              "        vertical-align: top;\n",
              "    }\n",
              "\n",
              "    .dataframe thead th {\n",
              "        text-align: right;\n",
              "    }\n",
              "</style>\n",
              "<table border=\"1\" class=\"dataframe\">\n",
              "  <thead>\n",
              "    <tr style=\"text-align: right;\">\n",
              "      <th></th>\n",
              "      <th>Sentence #</th>\n",
              "      <th>Word</th>\n",
              "      <th>POS</th>\n",
              "      <th>Tag</th>\n",
              "      <th>Word_id</th>\n",
              "      <th>Tag_id</th>\n",
              "    </tr>\n",
              "  </thead>\n",
              "  <tbody>\n",
              "    <tr>\n",
              "      <th>0</th>\n",
              "      <td>Sentence: 1</td>\n",
              "      <td>Thousands</td>\n",
              "      <td>NNS</td>\n",
              "      <td>O</td>\n",
              "      <td>5116</td>\n",
              "      <td>16</td>\n",
              "    </tr>\n",
              "    <tr>\n",
              "      <th>1</th>\n",
              "      <td>NaN</td>\n",
              "      <td>of</td>\n",
              "      <td>IN</td>\n",
              "      <td>O</td>\n",
              "      <td>29875</td>\n",
              "      <td>16</td>\n",
              "    </tr>\n",
              "    <tr>\n",
              "      <th>2</th>\n",
              "      <td>NaN</td>\n",
              "      <td>demonstrators</td>\n",
              "      <td>NNS</td>\n",
              "      <td>O</td>\n",
              "      <td>974</td>\n",
              "      <td>16</td>\n",
              "    </tr>\n",
              "    <tr>\n",
              "      <th>3</th>\n",
              "      <td>NaN</td>\n",
              "      <td>have</td>\n",
              "      <td>VBP</td>\n",
              "      <td>O</td>\n",
              "      <td>2645</td>\n",
              "      <td>16</td>\n",
              "    </tr>\n",
              "    <tr>\n",
              "      <th>4</th>\n",
              "      <td>NaN</td>\n",
              "      <td>marched</td>\n",
              "      <td>VBN</td>\n",
              "      <td>O</td>\n",
              "      <td>3033</td>\n",
              "      <td>16</td>\n",
              "    </tr>\n",
              "  </tbody>\n",
              "</table>\n",
              "</div>"
            ],
            "text/plain": [
              "    Sentence #           Word  POS Tag  Word_id  Tag_id\n",
              "0  Sentence: 1      Thousands  NNS   O     5116      16\n",
              "1          NaN             of   IN   O    29875      16\n",
              "2          NaN  demonstrators  NNS   O      974      16\n",
              "3          NaN           have  VBP   O     2645      16\n",
              "4          NaN        marched  VBN   O     3033      16"
            ]
          },
          "execution_count": 6,
          "metadata": {},
          "output_type": "execute_result"
        }
      ],
      "source": [
        "# Mapper les mots et les étiquettes à leurs identifiants correspondants\n",
        "df['Word_id'] = df['Word'].map(word2id)\n",
        "df['Tag_id'] = df['Tag'].map(tag2id)\n",
        "df.head()"
      ]
    },
    {
      "cell_type": "code",
      "execution_count": 7,
      "metadata": {
        "colab": {
          "base_uri": "https://localhost:8080/",
          "height": 206
        },
        "id": "V44GFy4ytpDy",
        "outputId": "5e0da077-ef16-46ed-ba24-5820cdac846d"
      },
      "outputs": [
        {
          "data": {
            "text/html": [
              "<div>\n",
              "<style scoped>\n",
              "    .dataframe tbody tr th:only-of-type {\n",
              "        vertical-align: middle;\n",
              "    }\n",
              "\n",
              "    .dataframe tbody tr th {\n",
              "        vertical-align: top;\n",
              "    }\n",
              "\n",
              "    .dataframe thead th {\n",
              "        text-align: right;\n",
              "    }\n",
              "</style>\n",
              "<table border=\"1\" class=\"dataframe\">\n",
              "  <thead>\n",
              "    <tr style=\"text-align: right;\">\n",
              "      <th></th>\n",
              "      <th>Sentence #</th>\n",
              "      <th>Word</th>\n",
              "      <th>POS</th>\n",
              "      <th>Tag</th>\n",
              "      <th>Word_id</th>\n",
              "      <th>Tag_id</th>\n",
              "    </tr>\n",
              "  </thead>\n",
              "  <tbody>\n",
              "    <tr>\n",
              "      <th>0</th>\n",
              "      <td>Sentence: 1</td>\n",
              "      <td>Thousands</td>\n",
              "      <td>NNS</td>\n",
              "      <td>O</td>\n",
              "      <td>5116</td>\n",
              "      <td>16</td>\n",
              "    </tr>\n",
              "    <tr>\n",
              "      <th>1</th>\n",
              "      <td>Sentence: 1</td>\n",
              "      <td>of</td>\n",
              "      <td>IN</td>\n",
              "      <td>O</td>\n",
              "      <td>29875</td>\n",
              "      <td>16</td>\n",
              "    </tr>\n",
              "    <tr>\n",
              "      <th>2</th>\n",
              "      <td>Sentence: 1</td>\n",
              "      <td>demonstrators</td>\n",
              "      <td>NNS</td>\n",
              "      <td>O</td>\n",
              "      <td>974</td>\n",
              "      <td>16</td>\n",
              "    </tr>\n",
              "    <tr>\n",
              "      <th>3</th>\n",
              "      <td>Sentence: 1</td>\n",
              "      <td>have</td>\n",
              "      <td>VBP</td>\n",
              "      <td>O</td>\n",
              "      <td>2645</td>\n",
              "      <td>16</td>\n",
              "    </tr>\n",
              "    <tr>\n",
              "      <th>4</th>\n",
              "      <td>Sentence: 1</td>\n",
              "      <td>marched</td>\n",
              "      <td>VBN</td>\n",
              "      <td>O</td>\n",
              "      <td>3033</td>\n",
              "      <td>16</td>\n",
              "    </tr>\n",
              "  </tbody>\n",
              "</table>\n",
              "</div>"
            ],
            "text/plain": [
              "    Sentence #           Word  POS Tag  Word_id  Tag_id\n",
              "0  Sentence: 1      Thousands  NNS   O     5116      16\n",
              "1  Sentence: 1             of   IN   O    29875      16\n",
              "2  Sentence: 1  demonstrators  NNS   O      974      16\n",
              "3  Sentence: 1           have  VBP   O     2645      16\n",
              "4  Sentence: 1        marched  VBN   O     3033      16"
            ]
          },
          "execution_count": 7,
          "metadata": {},
          "output_type": "execute_result"
        }
      ],
      "source": [
        "# Remplir les valeurs manquantes\n",
        "df_fillnan = df.ffill(axis=0)\n",
        "df_fillnan.head()"
      ]
    },
    {
      "cell_type": "code",
      "execution_count": 8,
      "metadata": {
        "colab": {
          "base_uri": "https://localhost:8080/",
          "height": 380
        },
        "id": "qgBR26u0mGht",
        "outputId": "20935611-a54e-4efc-9217-fed5e6797833"
      },
      "outputs": [
        {
          "data": {
            "text/html": [
              "<div>\n",
              "<style scoped>\n",
              "    .dataframe tbody tr th:only-of-type {\n",
              "        vertical-align: middle;\n",
              "    }\n",
              "\n",
              "    .dataframe tbody tr th {\n",
              "        vertical-align: top;\n",
              "    }\n",
              "\n",
              "    .dataframe thead th {\n",
              "        text-align: right;\n",
              "    }\n",
              "</style>\n",
              "<table border=\"1\" class=\"dataframe\">\n",
              "  <thead>\n",
              "    <tr style=\"text-align: right;\">\n",
              "      <th></th>\n",
              "      <th>Sentence #</th>\n",
              "      <th>Word</th>\n",
              "      <th>POS</th>\n",
              "      <th>Tag</th>\n",
              "      <th>Word_id</th>\n",
              "      <th>Tag_id</th>\n",
              "    </tr>\n",
              "  </thead>\n",
              "  <tbody>\n",
              "    <tr>\n",
              "      <th>0</th>\n",
              "      <td>Sentence: 1</td>\n",
              "      <td>[Thousands, of, demonstrators, have, marched, ...</td>\n",
              "      <td>[NNS, IN, NNS, VBP, VBN, IN, NNP, TO, VB, DT, ...</td>\n",
              "      <td>[O, O, O, O, O, O, B-geo, O, O, O, O, O, B-geo...</td>\n",
              "      <td>[5116, 29875, 974, 2645, 3033, 20053, 4066, 90...</td>\n",
              "      <td>[16, 16, 16, 16, 16, 16, 15, 16, 16, 16, 16, 1...</td>\n",
              "    </tr>\n",
              "    <tr>\n",
              "      <th>1</th>\n",
              "      <td>Sentence: 10</td>\n",
              "      <td>[Iranian, officials, say, they, expect, to, ge...</td>\n",
              "      <td>[JJ, NNS, VBP, PRP, VBP, TO, VB, NN, TO, JJ, J...</td>\n",
              "      <td>[B-gpe, O, O, O, O, O, O, O, O, O, O, O, O, O,...</td>\n",
              "      <td>[22814, 17407, 4203, 9756, 11773, 9073, 27472,...</td>\n",
              "      <td>[13, 16, 16, 16, 16, 16, 16, 16, 16, 16, 16, 1...</td>\n",
              "    </tr>\n",
              "    <tr>\n",
              "      <th>2</th>\n",
              "      <td>Sentence: 100</td>\n",
              "      <td>[Helicopter, gunships, Saturday, pounded, mili...</td>\n",
              "      <td>[NN, NNS, NNP, VBD, JJ, NNS, IN, DT, NNP, JJ, ...</td>\n",
              "      <td>[O, O, B-tim, O, O, O, O, O, B-geo, O, O, O, O...</td>\n",
              "      <td>[18659, 1205, 32322, 18807, 8642, 8017, 14094,...</td>\n",
              "      <td>[16, 16, 7, 16, 16, 16, 16, 16, 15, 16, 16, 16...</td>\n",
              "    </tr>\n",
              "    <tr>\n",
              "      <th>3</th>\n",
              "      <td>Sentence: 1000</td>\n",
              "      <td>[They, left, after, a, tense, hour-long, stand...</td>\n",
              "      <td>[PRP, VBD, IN, DT, NN, JJ, NN, IN, NN, NNS, .]</td>\n",
              "      <td>[O, O, O, O, O, O, O, O, O, O, O]</td>\n",
              "      <td>[8809, 16755, 1740, 32237, 32047, 4495, 16757,...</td>\n",
              "      <td>[16, 16, 16, 16, 16, 16, 16, 16, 16, 16, 16]</td>\n",
              "    </tr>\n",
              "    <tr>\n",
              "      <th>4</th>\n",
              "      <td>Sentence: 10000</td>\n",
              "      <td>[U.N., relief, coordinator, Jan, Egeland, said...</td>\n",
              "      <td>[NNP, NN, NN, NNP, NNP, VBD, NNP, ,, NNP, ,, J...</td>\n",
              "      <td>[B-geo, O, O, B-per, I-per, O, B-tim, O, B-geo...</td>\n",
              "      <td>[11306, 11692, 20344, 30656, 30920, 10231, 320...</td>\n",
              "      <td>[15, 16, 16, 11, 4, 16, 7, 16, 15, 16, 13, 16,...</td>\n",
              "    </tr>\n",
              "  </tbody>\n",
              "</table>\n",
              "</div>"
            ],
            "text/plain": [
              "        Sentence #                                               Word  \\\n",
              "0      Sentence: 1  [Thousands, of, demonstrators, have, marched, ...   \n",
              "1     Sentence: 10  [Iranian, officials, say, they, expect, to, ge...   \n",
              "2    Sentence: 100  [Helicopter, gunships, Saturday, pounded, mili...   \n",
              "3   Sentence: 1000  [They, left, after, a, tense, hour-long, stand...   \n",
              "4  Sentence: 10000  [U.N., relief, coordinator, Jan, Egeland, said...   \n",
              "\n",
              "                                                 POS  \\\n",
              "0  [NNS, IN, NNS, VBP, VBN, IN, NNP, TO, VB, DT, ...   \n",
              "1  [JJ, NNS, VBP, PRP, VBP, TO, VB, NN, TO, JJ, J...   \n",
              "2  [NN, NNS, NNP, VBD, JJ, NNS, IN, DT, NNP, JJ, ...   \n",
              "3     [PRP, VBD, IN, DT, NN, JJ, NN, IN, NN, NNS, .]   \n",
              "4  [NNP, NN, NN, NNP, NNP, VBD, NNP, ,, NNP, ,, J...   \n",
              "\n",
              "                                                 Tag  \\\n",
              "0  [O, O, O, O, O, O, B-geo, O, O, O, O, O, B-geo...   \n",
              "1  [B-gpe, O, O, O, O, O, O, O, O, O, O, O, O, O,...   \n",
              "2  [O, O, B-tim, O, O, O, O, O, B-geo, O, O, O, O...   \n",
              "3                  [O, O, O, O, O, O, O, O, O, O, O]   \n",
              "4  [B-geo, O, O, B-per, I-per, O, B-tim, O, B-geo...   \n",
              "\n",
              "                                             Word_id  \\\n",
              "0  [5116, 29875, 974, 2645, 3033, 20053, 4066, 90...   \n",
              "1  [22814, 17407, 4203, 9756, 11773, 9073, 27472,...   \n",
              "2  [18659, 1205, 32322, 18807, 8642, 8017, 14094,...   \n",
              "3  [8809, 16755, 1740, 32237, 32047, 4495, 16757,...   \n",
              "4  [11306, 11692, 20344, 30656, 30920, 10231, 320...   \n",
              "\n",
              "                                              Tag_id  \n",
              "0  [16, 16, 16, 16, 16, 16, 15, 16, 16, 16, 16, 1...  \n",
              "1  [13, 16, 16, 16, 16, 16, 16, 16, 16, 16, 16, 1...  \n",
              "2  [16, 16, 7, 16, 16, 16, 16, 16, 15, 16, 16, 16...  \n",
              "3       [16, 16, 16, 16, 16, 16, 16, 16, 16, 16, 16]  \n",
              "4  [15, 16, 16, 11, 4, 16, 7, 16, 15, 16, 13, 16,...  "
            ]
          },
          "execution_count": 8,
          "metadata": {},
          "output_type": "execute_result"
        }
      ],
      "source": [
        "# Grouper les données par phrase\n",
        "final_data = df_fillnan.groupby(['Sentence #'], as_index=False)[['Word', 'POS', 'Tag', 'Word_id', 'Tag_id']].agg(lambda x: list(x))\n",
        "final_data.head()"
      ]
    },
    {
      "cell_type": "code",
      "execution_count": 9,
      "metadata": {
        "colab": {
          "base_uri": "https://localhost:8080/"
        },
        "id": "z0xbd_gymJwe",
        "outputId": "457192d1-7793-4d04-d78f-6e9246d951d9"
      },
      "outputs": [
        {
          "name": "stdout",
          "output_type": "stream",
          "text": [
            "104\n",
            "104\n",
            "Statements after padding : \n",
            " [[ 5116 29875   974 ...  9253  9253  9253]\n",
            " [22814 17407  4203 ...  9253  9253  9253]\n",
            " [18659  1205 32322 ...  9253  9253  9253]\n",
            " ...\n",
            " [10194 20551 25718 ...  9253  9253  9253]\n",
            " [31492  1009 22197 ...  9253  9253  9253]\n",
            " [ 9253 12572   111 ...  9253  9253  9253]]\n",
            "Tags after padding : \n",
            " [[16 16 16 ... 16 16 16]\n",
            " [13 16 16 ... 16 16 16]\n",
            " [16 16  7 ... 16 16 16]\n",
            " ...\n",
            " [16 15 16 ... 16 16 16]\n",
            " [16 16 16 ... 16 16 16]\n",
            " [16  2  6 ... 16 16 16]]\n"
          ]
        }
      ],
      "source": [
        "# Rembourrer les phrases les plus courtes pour uniformiser la taille des entrées\n",
        "# Obtenir la taille maximale des phrases\n",
        "max_len_statement = final_data['Word_id'].apply(len).max()\n",
        "print(max_len_statement)\n",
        "# Obtenir la taille maximale des étiquettes\n",
        "max_len_tag = final_data['Tag_id'].apply(len).max()\n",
        "print(max_len_tag)\n",
        "# Rembourrer les phrases et les étiquettes\n",
        "pad_statements = pad_sequences(final_data['Word_id'].to_list(), maxlen=max_len_statement, padding='post', value=word2id['The'])\n",
        "pad_tags = pad_sequences(final_data['Tag_id'].to_list(), maxlen=max_len_tag, padding='post', value=tag2id['O'])\n",
        "print('Statements after padding : \\n',pad_statements)\n",
        "print('Tags after padding : \\n',pad_tags)"
      ]
    },
    {
      "cell_type": "code",
      "execution_count": null,
      "metadata": {
        "colab": {
          "base_uri": "https://localhost:8080/"
        },
        "id": "12eAc34xmREf",
        "outputId": "b9cdc0e1-7f50-4bba-a026-9f77ef74918f"
      },
      "outputs": [
        {
          "name": "stdout",
          "output_type": "stream",
          "text": [
            "[[[0. 0. 0. ... 0. 0. 1.]\n",
            "  [0. 0. 0. ... 0. 0. 1.]\n",
            "  [0. 0. 0. ... 0. 0. 1.]\n",
            "  ...\n",
            "  [0. 0. 0. ... 0. 0. 1.]\n",
            "  [0. 0. 0. ... 0. 0. 1.]\n",
            "  [0. 0. 0. ... 0. 0. 1.]]\n",
            "\n",
            " [[0. 0. 0. ... 0. 0. 0.]\n",
            "  [0. 0. 0. ... 0. 0. 1.]\n",
            "  [0. 0. 0. ... 0. 0. 1.]\n",
            "  ...\n",
            "  [0. 0. 0. ... 0. 0. 1.]\n",
            "  [0. 0. 0. ... 0. 0. 1.]\n",
            "  [0. 0. 0. ... 0. 0. 1.]]\n",
            "\n",
            " [[0. 0. 0. ... 0. 0. 1.]\n",
            "  [0. 0. 0. ... 0. 0. 1.]\n",
            "  [0. 0. 0. ... 0. 0. 0.]\n",
            "  ...\n",
            "  [0. 0. 0. ... 0. 0. 1.]\n",
            "  [0. 0. 0. ... 0. 0. 1.]\n",
            "  [0. 0. 0. ... 0. 0. 1.]]\n",
            "\n",
            " ...\n",
            "\n",
            " [[0. 0. 0. ... 0. 0. 1.]\n",
            "  [0. 0. 0. ... 0. 1. 0.]\n",
            "  [0. 0. 0. ... 0. 0. 1.]\n",
            "  ...\n",
            "  [0. 0. 0. ... 0. 0. 1.]\n",
            "  [0. 0. 0. ... 0. 0. 1.]\n",
            "  [0. 0. 0. ... 0. 0. 1.]]\n",
            "\n",
            " [[0. 0. 0. ... 0. 0. 1.]\n",
            "  [0. 0. 0. ... 0. 0. 1.]\n",
            "  [0. 0. 0. ... 0. 0. 1.]\n",
            "  ...\n",
            "  [0. 0. 0. ... 0. 0. 1.]\n",
            "  [0. 0. 0. ... 0. 0. 1.]\n",
            "  [0. 0. 0. ... 0. 0. 1.]]\n",
            "\n",
            " [[0. 0. 0. ... 0. 0. 1.]\n",
            "  [0. 0. 1. ... 0. 0. 0.]\n",
            "  [0. 0. 0. ... 0. 0. 0.]\n",
            "  ...\n",
            "  [0. 0. 0. ... 0. 0. 1.]\n",
            "  [0. 0. 0. ... 0. 0. 1.]\n",
            "  [0. 0. 0. ... 0. 0. 1.]]]\n",
            "(47959, 104, 17)\n"
          ]
        }
      ],
      "source": [
        "# Convertir les étiquettes de sortie en encodage one-hot\n",
        "pad_tags = to_categorical(pad_tags)\n",
        "print(pad_tags)\n",
        "print(pad_tags.shape)"
      ]
    },
    {
      "cell_type": "code",
      "execution_count": null,
      "metadata": {
        "colab": {
          "base_uri": "https://localhost:8080/"
        },
        "id": "Uk9Di3yZmU_A",
        "outputId": "78e4cd81-2aa6-404d-861d-b895d64f4c3e"
      },
      "outputs": [
        {
          "name": "stdout",
          "output_type": "stream",
          "text": [
            "(43163, 104)\n",
            "(4796, 104)\n",
            "(43163, 104, 17)\n",
            "(4796, 104, 17)\n"
          ]
        }
      ],
      "source": [
        "# Diviser les données en ensembles d'entraînement et de test\n",
        "X_train,X_test,Y_train,Y_test = train_test_split(pad_statements,pad_tags,test_size=0.1,random_state=42)\n",
        "print(X_train.shape)\n",
        "print(X_test.shape)\n",
        "print(Y_train.shape)\n",
        "print(Y_test.shape)"
      ]
    },
    {
      "cell_type": "code",
      "execution_count": 15,
      "metadata": {
        "id": "jGDfYazNmZBk"
      },
      "outputs": [
        {
          "name": "stdout",
          "output_type": "stream",
          "text": [
            "(104,)\n",
            "35179\n",
            "104\n",
            "17\n"
          ]
        }
      ],
      "source": [
        "# Définir les paramètres du modèle\n",
        "shape = X_train[1].shape\n",
        "input_dim = len(list(set(df['Word'].to_list())))+1\n",
        "output_dim = 64\n",
        "input_length = max_len_statement\n",
        "output_units = len(id2tag)\n",
        "print(shape)\n",
        "print(input_dim)\n",
        "print(input_length)\n",
        "print(output_units)"
      ]
    },
    {
      "cell_type": "code",
      "execution_count": 13,
      "metadata": {
        "colab": {
          "base_uri": "https://localhost:8080/",
          "height": 1000
        },
        "id": "qvseObIemb5J",
        "outputId": "ecf59d0e-8e8a-4dad-95bd-5b197c81de16"
      },
      "outputs": [
        {
          "name": "stderr",
          "output_type": "stream",
          "text": [
            "c:\\Users\\Mohamed\\Desktop\\INDIA S3\\Deep Learning\\NER project\\venv\\Lib\\site-packages\\keras\\src\\layers\\core\\embedding.py:90: UserWarning: Argument `input_length` is deprecated. Just remove it.\n",
            "  warnings.warn(\n"
          ]
        },
        {
          "data": {
            "text/html": [
              "<pre style=\"white-space:pre;overflow-x:auto;line-height:normal;font-family:Menlo,'DejaVu Sans Mono',consolas,'Courier New',monospace\"><span style=\"font-weight: bold\">Model: \"functional\"</span>\n",
              "</pre>\n"
            ],
            "text/plain": [
              "\u001b[1mModel: \"functional\"\u001b[0m\n"
            ]
          },
          "metadata": {},
          "output_type": "display_data"
        },
        {
          "data": {
            "text/html": [
              "<pre style=\"white-space:pre;overflow-x:auto;line-height:normal;font-family:Menlo,'DejaVu Sans Mono',consolas,'Courier New',monospace\">┏━━━━━━━━━━━━━━━━━━━━━━━━━━━━━━━━━┳━━━━━━━━━━━━━━━━━━━━━━━━┳━━━━━━━━━━━━━━━┓\n",
              "┃<span style=\"font-weight: bold\"> Layer (type)                    </span>┃<span style=\"font-weight: bold\"> Output Shape           </span>┃<span style=\"font-weight: bold\">       Param # </span>┃\n",
              "┡━━━━━━━━━━━━━━━━━━━━━━━━━━━━━━━━━╇━━━━━━━━━━━━━━━━━━━━━━━━╇━━━━━━━━━━━━━━━┩\n",
              "│ input_layer (<span style=\"color: #0087ff; text-decoration-color: #0087ff\">InputLayer</span>)        │ (<span style=\"color: #00d7ff; text-decoration-color: #00d7ff\">None</span>, <span style=\"color: #00af00; text-decoration-color: #00af00\">104</span>)            │             <span style=\"color: #00af00; text-decoration-color: #00af00\">0</span> │\n",
              "├─────────────────────────────────┼────────────────────────┼───────────────┤\n",
              "│ embedding (<span style=\"color: #0087ff; text-decoration-color: #0087ff\">Embedding</span>)           │ (<span style=\"color: #00d7ff; text-decoration-color: #00d7ff\">None</span>, <span style=\"color: #00af00; text-decoration-color: #00af00\">104</span>, <span style=\"color: #00af00; text-decoration-color: #00af00\">64</span>)        │     <span style=\"color: #00af00; text-decoration-color: #00af00\">2,251,456</span> │\n",
              "├─────────────────────────────────┼────────────────────────┼───────────────┤\n",
              "│ lstm (<span style=\"color: #0087ff; text-decoration-color: #0087ff\">LSTM</span>)                     │ (<span style=\"color: #00d7ff; text-decoration-color: #00d7ff\">None</span>, <span style=\"color: #00af00; text-decoration-color: #00af00\">104</span>, <span style=\"color: #00af00; text-decoration-color: #00af00\">64</span>)        │        <span style=\"color: #00af00; text-decoration-color: #00af00\">33,024</span> │\n",
              "├─────────────────────────────────┼────────────────────────┼───────────────┤\n",
              "│ lstm_1 (<span style=\"color: #0087ff; text-decoration-color: #0087ff\">LSTM</span>)                   │ (<span style=\"color: #00d7ff; text-decoration-color: #00d7ff\">None</span>, <span style=\"color: #00af00; text-decoration-color: #00af00\">104</span>, <span style=\"color: #00af00; text-decoration-color: #00af00\">64</span>)        │        <span style=\"color: #00af00; text-decoration-color: #00af00\">33,024</span> │\n",
              "├─────────────────────────────────┼────────────────────────┼───────────────┤\n",
              "│ time_distributed                │ (<span style=\"color: #00d7ff; text-decoration-color: #00d7ff\">None</span>, <span style=\"color: #00af00; text-decoration-color: #00af00\">104</span>, <span style=\"color: #00af00; text-decoration-color: #00af00\">17</span>)        │         <span style=\"color: #00af00; text-decoration-color: #00af00\">1,105</span> │\n",
              "│ (<span style=\"color: #0087ff; text-decoration-color: #0087ff\">TimeDistributed</span>)               │                        │               │\n",
              "└─────────────────────────────────┴────────────────────────┴───────────────┘\n",
              "</pre>\n"
            ],
            "text/plain": [
              "┏━━━━━━━━━━━━━━━━━━━━━━━━━━━━━━━━━┳━━━━━━━━━━━━━━━━━━━━━━━━┳━━━━━━━━━━━━━━━┓\n",
              "┃\u001b[1m \u001b[0m\u001b[1mLayer (type)                   \u001b[0m\u001b[1m \u001b[0m┃\u001b[1m \u001b[0m\u001b[1mOutput Shape          \u001b[0m\u001b[1m \u001b[0m┃\u001b[1m \u001b[0m\u001b[1m      Param #\u001b[0m\u001b[1m \u001b[0m┃\n",
              "┡━━━━━━━━━━━━━━━━━━━━━━━━━━━━━━━━━╇━━━━━━━━━━━━━━━━━━━━━━━━╇━━━━━━━━━━━━━━━┩\n",
              "│ input_layer (\u001b[38;5;33mInputLayer\u001b[0m)        │ (\u001b[38;5;45mNone\u001b[0m, \u001b[38;5;34m104\u001b[0m)            │             \u001b[38;5;34m0\u001b[0m │\n",
              "├─────────────────────────────────┼────────────────────────┼───────────────┤\n",
              "│ embedding (\u001b[38;5;33mEmbedding\u001b[0m)           │ (\u001b[38;5;45mNone\u001b[0m, \u001b[38;5;34m104\u001b[0m, \u001b[38;5;34m64\u001b[0m)        │     \u001b[38;5;34m2,251,456\u001b[0m │\n",
              "├─────────────────────────────────┼────────────────────────┼───────────────┤\n",
              "│ lstm (\u001b[38;5;33mLSTM\u001b[0m)                     │ (\u001b[38;5;45mNone\u001b[0m, \u001b[38;5;34m104\u001b[0m, \u001b[38;5;34m64\u001b[0m)        │        \u001b[38;5;34m33,024\u001b[0m │\n",
              "├─────────────────────────────────┼────────────────────────┼───────────────┤\n",
              "│ lstm_1 (\u001b[38;5;33mLSTM\u001b[0m)                   │ (\u001b[38;5;45mNone\u001b[0m, \u001b[38;5;34m104\u001b[0m, \u001b[38;5;34m64\u001b[0m)        │        \u001b[38;5;34m33,024\u001b[0m │\n",
              "├─────────────────────────────────┼────────────────────────┼───────────────┤\n",
              "│ time_distributed                │ (\u001b[38;5;45mNone\u001b[0m, \u001b[38;5;34m104\u001b[0m, \u001b[38;5;34m17\u001b[0m)        │         \u001b[38;5;34m1,105\u001b[0m │\n",
              "│ (\u001b[38;5;33mTimeDistributed\u001b[0m)               │                        │               │\n",
              "└─────────────────────────────────┴────────────────────────┴───────────────┘\n"
            ]
          },
          "metadata": {},
          "output_type": "display_data"
        },
        {
          "data": {
            "text/html": [
              "<pre style=\"white-space:pre;overflow-x:auto;line-height:normal;font-family:Menlo,'DejaVu Sans Mono',consolas,'Courier New',monospace\"><span style=\"font-weight: bold\"> Total params: </span><span style=\"color: #00af00; text-decoration-color: #00af00\">2,318,609</span> (8.84 MB)\n",
              "</pre>\n"
            ],
            "text/plain": [
              "\u001b[1m Total params: \u001b[0m\u001b[38;5;34m2,318,609\u001b[0m (8.84 MB)\n"
            ]
          },
          "metadata": {},
          "output_type": "display_data"
        },
        {
          "data": {
            "text/html": [
              "<pre style=\"white-space:pre;overflow-x:auto;line-height:normal;font-family:Menlo,'DejaVu Sans Mono',consolas,'Courier New',monospace\"><span style=\"font-weight: bold\"> Trainable params: </span><span style=\"color: #00af00; text-decoration-color: #00af00\">2,318,609</span> (8.84 MB)\n",
              "</pre>\n"
            ],
            "text/plain": [
              "\u001b[1m Trainable params: \u001b[0m\u001b[38;5;34m2,318,609\u001b[0m (8.84 MB)\n"
            ]
          },
          "metadata": {},
          "output_type": "display_data"
        },
        {
          "data": {
            "text/html": [
              "<pre style=\"white-space:pre;overflow-x:auto;line-height:normal;font-family:Menlo,'DejaVu Sans Mono',consolas,'Courier New',monospace\"><span style=\"font-weight: bold\"> Non-trainable params: </span><span style=\"color: #00af00; text-decoration-color: #00af00\">0</span> (0.00 B)\n",
              "</pre>\n"
            ],
            "text/plain": [
              "\u001b[1m Non-trainable params: \u001b[0m\u001b[38;5;34m0\u001b[0m (0.00 B)\n"
            ]
          },
          "metadata": {},
          "output_type": "display_data"
        },
        {
          "name": "stdout",
          "output_type": "stream",
          "text": [
            "You must install pydot (`pip install pydot`) for `plot_model` to work.\n"
          ]
        }
      ],
      "source": [
        "# Créer le modèle\n",
        "input_layer = Input(shape=shape)\n",
        "embeddings = Embedding(input_dim=input_dim,output_dim=output_dim,input_length=input_length)(input_layer)\n",
        "lstm1 = LSTM(units=output_dim,return_sequences=True)(embeddings)\n",
        "lstm2 = LSTM(units=output_dim,return_sequences=True)(lstm1)\n",
        "output = TimeDistributed(Dense(units=output_units,activation='softmax'))(lstm2)\n",
        "model = Model(inputs=input_layer,outputs=output)\n",
        "model.compile(optimizer=RMSprop(1e-3),loss='categorical_crossentropy',metrics=['accuracy'])\n",
        "model.summary()\n",
        "plot_model(model,show_shapes=True)"
      ]
    },
    {
      "cell_type": "code",
      "execution_count": 14,
      "metadata": {
        "colab": {
          "base_uri": "https://localhost:8080/"
        },
        "id": "hTs7LesKmkwM",
        "outputId": "e13a7d8a-f78b-4872-9634-a44c36c3816f"
      },
      "outputs": [
        {
          "name": "stdout",
          "output_type": "stream",
          "text": [
            "\u001b[1m10791/10791\u001b[0m \u001b[32m━━━━━━━━━━━━━━━━━━━━\u001b[0m\u001b[37m\u001b[0m \u001b[1m1161s\u001b[0m 106ms/step - accuracy: 0.9760 - loss: 0.1044 - val_accuracy: 0.9891 - val_loss: 0.0402\n"
          ]
        },
        {
          "data": {
            "text/plain": [
              "<keras.src.callbacks.history.History at 0x1e88c1a9d00>"
            ]
          },
          "execution_count": 14,
          "metadata": {},
          "output_type": "execute_result"
        }
      ],
      "source": [
        "# Entraîner le modèle\n",
        "model.fit(x=X_train,y=Y_train,batch_size=4,validation_data=(X_test,Y_test))"
      ]
    },
    {
      "cell_type": "code",
      "execution_count": 16,
      "metadata": {
        "colab": {
          "base_uri": "https://localhost:8080/"
        },
        "id": "KPo4i4-Omma2",
        "outputId": "1ff169e7-67bf-4536-b709-523030fe7638"
      },
      "outputs": [
        {
          "name": "stdout",
          "output_type": "stream",
          "text": [
            "\u001b[1m150/150\u001b[0m \u001b[32m━━━━━━━━━━━━━━━━━━━━\u001b[0m\u001b[37m\u001b[0m \u001b[1m8s\u001b[0m 35ms/step - accuracy: 0.9892 - loss: 0.0406\n",
            "Test Loss: 0.0402\n",
            "Test Accuracy: 0.9891\n",
            "\u001b[1m150/150\u001b[0m \u001b[32m━━━━━━━━━━━━━━━━━━━━\u001b[0m\u001b[37m\u001b[0m \u001b[1m9s\u001b[0m 48ms/step\n"
          ]
        }
      ],
      "source": [
        "# Évaluer le modèle\n",
        "test_loss, test_accuracy = model.evaluate(X_test, Y_test)\n",
        "print(f\"Test Loss: {test_loss:.4f}\")\n",
        "print(f\"Test Accuracy: {test_accuracy:.4f}\")\n",
        "\n",
        "# Prédire sur l'ensemble de test\n",
        "y_pred = model.predict(X_test)\n",
        "y_pred = np.argmax(y_pred, axis=-1)\n",
        "y_true = np.argmax(Y_test, axis=-1)"
      ]
    },
    {
      "cell_type": "code",
      "execution_count": 25,
      "metadata": {
        "colab": {
          "base_uri": "https://localhost:8080/"
        },
        "id": "EYAYWUjznlFS",
        "outputId": "c3c65e92-c9f5-4cbf-8c6d-16b1cf6ade36"
      },
      "outputs": [
        {
          "name": "stdout",
          "output_type": "stream",
          "text": [
            "\u001b[1m1/1\u001b[0m \u001b[32m━━━━━━━━━━━━━━━━━━━━\u001b[0m\u001b[37m\u001b[0m \u001b[1m0s\u001b[0m 106ms/step\n"
          ]
        }
      ],
      "source": [
        "def predict_ner_tags(sentence, model, word2id, id2tag, max_len_statement):\n",
        "    \"\"\"\n",
        "    Prédit les étiquettes NER pour une phrase donnée.\n",
        "\n",
        "    Args:\n",
        "        sentence: La phrase à prédire.\n",
        "        model: Le modèle NER entraîné.\n",
        "        word2id: Le dictionnaire de mapping mot à index.\n",
        "        id2tag: Le dictionnaire de mapping index à étiquette.\n",
        "        max_len_statement: La longueur maximale de la phrase.\n",
        "\n",
        "    Returns:\n",
        "        None (affiche les résultats).\n",
        "    \"\"\"\n",
        "    # Diviser la phrase en tokens\n",
        "    tokens = sentence.split()\n",
        "\n",
        "    # Convertir les tokens en leurs indices correspondants\n",
        "    token_indices = [word2id.get(word, word2id[\"The\"]) for word in tokens]\n",
        "\n",
        "    # Rembourrer les indices de tokens à la longueur maximale\n",
        "    token_indices_padded = pad_sequences([token_indices], maxlen=max_len_statement, padding=\"post\", value=word2id[\"The\"])\n",
        "\n",
        "    # Faire des prédictions\n",
        "    predictions = model.predict(token_indices_padded)\n",
        "\n",
        "    # Obtenir les indices prédits\n",
        "    predicted_indices = np.argmax(predictions, axis=-1)[0]\n",
        "\n",
        "    # Mapper les indices prédits aux étiquettes\n",
        "    #predicted_tags = [id2tag[idx] for idx in predicted_indices[:len(tokens)]]\n",
        "\n",
        "    # Afficher les résultats\n",
        "    #for word, tag in zip(tokens, predicted_tags):\n",
        "        #print(f\"{word:15} {tag}\")\n",
        "\n",
        "    return list(zip(tokens, predicted_indices))\n",
        "\n",
        "# Exemple d'utilisation\n",
        "custom_sentence = \"Google and Microsoft are competing in the AI market.\"\n",
        "# En supposant que model, word2id, id2tag et max_len_statement sont définis\n",
        "predictions = predict_ner_tags(custom_sentence, model, word2id, id2tag, max_len_statement)"
      ]
    },
    {
      "cell_type": "code",
      "execution_count": 27,
      "metadata": {},
      "outputs": [
        {
          "data": {
            "text/plain": [
              "{0: 'I-geo',\n",
              " 1: 'B-eve',\n",
              " 2: 'B-org',\n",
              " 3: 'I-tim',\n",
              " 4: 'I-per',\n",
              " 5: 'B-nat',\n",
              " 6: 'I-org',\n",
              " 7: 'B-tim',\n",
              " 8: 'I-nat',\n",
              " 9: 'I-art',\n",
              " 10: 'I-gpe',\n",
              " 11: 'B-per',\n",
              " 12: 'B-art',\n",
              " 13: 'B-gpe',\n",
              " 14: 'I-eve',\n",
              " 15: 'B-geo',\n",
              " 16: 'O'}"
            ]
          },
          "execution_count": 27,
          "metadata": {},
          "output_type": "execute_result"
        }
      ],
      "source": [
        "id2tag"
      ]
    },
    {
      "cell_type": "code",
      "execution_count": 28,
      "metadata": {
        "id": "1N8ZMvkGySnx"
      },
      "outputs": [],
      "source": [
        "tag_mapping= {\n",
        "    0: 'Geographical Entity',\n",
        "    1: 'Event',\n",
        "    2: 'Organization' ,\n",
        "    3: 'Time' ,\n",
        "    4: 'Person' ,\n",
        "    5: 'Nationality' ,\n",
        "    6: 'Organization',\n",
        "    7: 'Time' ,\n",
        "    8: 'Nationality' ,\n",
        "    9: 'Artifact' ,\n",
        "    10: 'Geopolitical Entity' ,\n",
        "    11: 'Person' ,\n",
        "    12: 'Artifact',\n",
        "    13: 'Geopolitical Entity',\n",
        "    14: 'Event',\n",
        "    15: 'Geographical Entity',\n",
        "    16: 'Outside' \n",
        "}"
      ]
    },
    {
      "cell_type": "code",
      "execution_count": 29,
      "metadata": {
        "id": "NY-Et7ACwhGC"
      },
      "outputs": [],
      "source": [
        "def display_ner_predictions(sentence, predictions, tag_mapping):\n",
        "    \"\"\"\n",
        "    Displays NER predictions in a user-friendly format.\n",
        "\n",
        "    Args:\n",
        "        sentence: The input sentence.\n",
        "        predictions: A list of (word, tag_id) tuples.\n",
        "        tag_mapping: A dictionary mapping tag IDs to readable tag names.\n",
        "    \"\"\"\n",
        "\n",
        "    entities = []\n",
        "    current_entity = []\n",
        "    for word, tag_id in predictions:\n",
        "        tag = tag_mapping.get(tag_id, \"O\")  # Get full tag name from mapping\n",
        "\n",
        "        if tag != \"Outside\":  # Beginning of a new entity or inside an existing one\n",
        "            if not current_entity or current_entity[0][1] == tag:\n",
        "                current_entity.append((word, tag))\n",
        "            else: # Different entity type\n",
        "                entities.append((\" \".join([w for w, _ in current_entity]), current_entity[0][1]))\n",
        "                current_entity = [(word, tag)]\n",
        "        else:  # Outside any entity (O tag)\n",
        "            if current_entity:\n",
        "                entities.append((\" \".join([w for w, _ in current_entity]), current_entity[0][1]))\n",
        "            current_entity = []\n",
        "\n",
        "    if current_entity:\n",
        "        entities.append((\" \".join([w for w, _ in current_entity]), current_entity[0][1]))\n",
        "\n",
        "    result = {}\n",
        "    if entities:\n",
        "        print(\"Entities:\")\n",
        "        for entity_text, entity_type in entities:\n",
        "            result[entity_text] = entity_type\n",
        "            print(f\"- {entity_text} ({entity_type})\")\n",
        "    else:\n",
        "        print(\"No entities found.\")\n",
        "\n",
        "    return result"
      ]
    },
    {
      "cell_type": "code",
      "execution_count": 30,
      "metadata": {
        "colab": {
          "base_uri": "https://localhost:8080/"
        },
        "id": "d64nt0mNw6Sk",
        "outputId": "cdd133e8-87d3-4ebf-e46c-c937fb874199"
      },
      "outputs": [
        {
          "name": "stdout",
          "output_type": "stream",
          "text": [
            "Entities:\n",
            "- Google (Organization)\n",
            "- Microsoft (Organization)\n",
            "{'Google': 'Organization', 'Microsoft': 'Organization'}\n"
          ]
        }
      ],
      "source": [
        "custom_sentence = \"Google and Microsoft are competing in the AI market.\"\n",
        "print(display_ner_predictions(custom_sentence,predictions,tag_mapping))"
      ]
    },
    {
      "cell_type": "code",
      "execution_count": 36,
      "metadata": {
        "id": "ri9LD7BlnqxD"
      },
      "outputs": [],
      "source": [
        "# Sauvegarder le modèle\n",
        "model.save('ner_model.keras')"
      ]
    },
    {
      "cell_type": "code",
      "execution_count": 32,
      "metadata": {},
      "outputs": [],
      "source": [
        "from tensorflow.keras.models import load_model\n",
        "\n",
        "model1 = load_model('ner_model.keras')"
      ]
    },
    {
      "cell_type": "code",
      "execution_count": 33,
      "metadata": {},
      "outputs": [
        {
          "name": "stdout",
          "output_type": "stream",
          "text": [
            "\u001b[1m1/1\u001b[0m \u001b[32m━━━━━━━━━━━━━━━━━━━━\u001b[0m\u001b[37m\u001b[0m \u001b[1m2s\u001b[0m 2s/step\n",
            "Entities:\n",
            "- Google (Organization)\n",
            "- Microsoft (Organization)\n",
            "{'Google': 'Organization', 'Microsoft': 'Organization'}\n"
          ]
        }
      ],
      "source": [
        "custom_sentence = \"Google and Microsoft are competing in the AI market.\"\n",
        "predictions = predict_ner_tags(custom_sentence, model1, word2id, id2tag, max_len_statement)\n",
        "print(display_ner_predictions(custom_sentence,predictions,tag_mapping))"
      ]
    }
  ],
  "metadata": {
    "colab": {
      "provenance": []
    },
    "kernelspec": {
      "display_name": "venv",
      "language": "python",
      "name": "python3"
    },
    "language_info": {
      "codemirror_mode": {
        "name": "ipython",
        "version": 3
      },
      "file_extension": ".py",
      "mimetype": "text/x-python",
      "name": "python",
      "nbconvert_exporter": "python",
      "pygments_lexer": "ipython3",
      "version": "3.12.5"
    }
  },
  "nbformat": 4,
  "nbformat_minor": 0
}
